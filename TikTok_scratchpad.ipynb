{
 "cells": [
  {
   "cell_type": "code",
   "execution_count": 1,
   "metadata": {},
   "outputs": [],
   "source": [
    "import pandas as pd\n",
    "import numpy as np\n",
    "\n",
    "# pd.set_option('display.max_colwidth',1000)"
   ]
  },
  {
   "cell_type": "code",
   "execution_count": 2,
   "metadata": {},
   "outputs": [],
   "source": [
    "ht_df = pd.read_csv('./csv/sponsored/samples/hashtag_sponsored_2021-06-08 16_58_04.csv')\n",
    "user_vids_df = pd.read_csv('./csv/sponsored/samples/users_videos_sponsored.csv')\n",
    "user_dets_df = pd.read_csv('./csv/sponsored/samples/get_user_details_sponsored_2021-06-08 22_46_32.csv')"
   ]
  },
  {
   "cell_type": "code",
   "execution_count": 3,
   "metadata": {},
   "outputs": [],
   "source": [
    "# Convert epoch times to datetime\n",
    "\n",
    "user_vids_df['creation_time'] = pd.to_datetime(user_vids_df['creation_time'],unit='s')\n",
    "user_dets_df['account_created'] = pd.to_datetime(user_dets_df['account_created'],unit='s')"
   ]
  },
  {
   "cell_type": "code",
   "execution_count": 4,
   "metadata": {},
   "outputs": [],
   "source": [
    "# Calculate engagement metric for each video\n",
    "\n",
    "user_vids_df['video_engagement'] = ((user_vids_df.diggs + \n",
    "                                     user_vids_df.comments + \n",
    "                                     user_vids_df.shares) / \n",
    "                                    user_vids_df.plays)"
   ]
  },
  {
   "cell_type": "code",
   "execution_count": 5,
   "metadata": {},
   "outputs": [
    {
     "data": {
      "text/plain": [
       "Index(['video_id', 'description', 'creation_time', 'duration', 'author_id',\n",
       "       'username', 'nickname', 'music_id', 'song_title', 'music_author_name',\n",
       "       'diggs', 'shares', 'comments', 'plays', 'video_engagement'],\n",
       "      dtype='object')"
      ]
     },
     "execution_count": 5,
     "metadata": {},
     "output_type": "execute_result"
    }
   ],
   "source": [
    "user_vids_df.columns"
   ]
  },
  {
   "cell_type": "code",
   "execution_count": 6,
   "metadata": {},
   "outputs": [],
   "source": [
    "user_vids_df['sponsored_ht'] = np.where(user_vids_df['description'].str.contains('#Sponsored|#sponsored|#ad |#Ad ', na=False), 1, 0)"
   ]
  },
  {
   "cell_type": "code",
   "execution_count": 7,
   "metadata": {},
   "outputs": [
    {
     "data": {
      "text/plain": [
       "0    0.98104\n",
       "1    0.01896\n",
       "Name: sponsored_ht, dtype: float64"
      ]
     },
     "execution_count": 7,
     "metadata": {},
     "output_type": "execute_result"
    }
   ],
   "source": [
    "user_vids_df['sponsored_ht'].value_counts(normalize=True)"
   ]
  },
  {
   "cell_type": "code",
   "execution_count": 8,
   "metadata": {},
   "outputs": [
    {
     "data": {
      "text/plain": [
       "Timestamp('2021-06-10 01:00:20')"
      ]
     },
     "execution_count": 8,
     "metadata": {},
     "output_type": "execute_result"
    }
   ],
   "source": [
    "user_vids_df['creation_time'].max()"
   ]
  },
  {
   "cell_type": "code",
   "execution_count": 9,
   "metadata": {},
   "outputs": [
    {
     "data": {
      "text/plain": [
       "104979   2021-06-09 19:26:36\n",
       "104980   2021-06-09 18:29:24\n",
       "104981   2021-06-08 19:47:24\n",
       "104982   2021-06-07 20:24:06\n",
       "104983   2021-06-06 17:29:25\n",
       "104984   2021-06-05 20:35:56\n",
       "104985   2021-06-04 20:14:29\n",
       "104986   2021-06-04 19:04:59\n",
       "104987   2021-06-03 21:22:43\n",
       "104988   2021-06-03 21:05:34\n",
       "104989   2021-06-02 21:37:36\n",
       "104990   2021-06-02 18:24:15\n",
       "104991   2021-06-01 21:34:45\n",
       "104992   2021-06-01 19:07:38\n",
       "104993   2021-05-31 18:05:36\n",
       "104994   2021-05-30 17:08:36\n",
       "104995   2021-05-29 18:41:19\n",
       "104996   2021-05-29 17:43:37\n",
       "104997   2021-05-28 19:28:46\n",
       "104998   2021-05-27 19:18:05\n",
       "Name: creation_time, dtype: datetime64[ns]"
      ]
     },
     "execution_count": 9,
     "metadata": {},
     "output_type": "execute_result"
    }
   ],
   "source": [
    "user_vids_df[user_vids_df['username'] == 'paigemackenzie']['creation_time'].nlargest(20)"
   ]
  },
  {
   "cell_type": "code",
   "execution_count": 10,
   "metadata": {},
   "outputs": [],
   "source": [
    "recent_engagement = (user_vids_df.groupby('username').apply(lambda x: x.sort_values('creation_time', ascending=False).head(20)['diggs'].sum()) +\n",
    "user_vids_df.groupby('username').apply(lambda x: x.sort_values('creation_time', ascending=False).head(20)['comments'].sum()) +\n",
    "user_vids_df.groupby('username').apply(lambda x: x.sort_values('creation_time', ascending=False).head(20)['shares'].sum())) / user_vids_df.groupby('username').apply(lambda x: x.sort_values('creation_time', ascending=False).head(20)['plays'].sum())"
   ]
  },
  {
   "cell_type": "code",
   "execution_count": 12,
   "metadata": {},
   "outputs": [
    {
     "data": {
      "text/plain": [
       "pandas.core.series.Series"
      ]
     },
     "execution_count": 12,
     "metadata": {},
     "output_type": "execute_result"
    }
   ],
   "source": [
    "type(recent_engagement)"
   ]
  },
  {
   "cell_type": "code",
   "execution_count": 16,
   "metadata": {},
   "outputs": [
    {
     "data": {
      "text/plain": [
       "username\n",
       "208skindoc          0.119513\n",
       "accelbyzantine      0.176226\n",
       "adampukeonhaters    0.121376\n",
       "adamselihi          0.066308\n",
       "alexcortex          0.199094\n",
       "                      ...   \n",
       "yoeslan             0.063438\n",
       "yoga.classes        0.063256\n",
       "yun_bao             0.203785\n",
       "zacharyyryann       0.122851\n",
       "zhangarang          0.152309\n",
       "Length: 193, dtype: float64"
      ]
     },
     "execution_count": 16,
     "metadata": {},
     "output_type": "execute_result"
    }
   ],
   "source": [
    "recent_engagement"
   ]
  },
  {
   "cell_type": "code",
   "execution_count": 11,
   "metadata": {},
   "outputs": [],
   "source": [
    "# user_dets_df['recent_engagement'] = "
   ]
  }
 ],
 "metadata": {
  "kernelspec": {
   "display_name": "Python 3",
   "language": "python",
   "name": "python3"
  },
  "language_info": {
   "codemirror_mode": {
    "name": "ipython",
    "version": 3
   },
   "file_extension": ".py",
   "mimetype": "text/x-python",
   "name": "python",
   "nbconvert_exporter": "python",
   "pygments_lexer": "ipython3",
   "version": "3.8.3"
  }
 },
 "nbformat": 4,
 "nbformat_minor": 4
}
