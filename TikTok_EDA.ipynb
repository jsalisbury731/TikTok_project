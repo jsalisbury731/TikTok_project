{
 "cells": [
  {
   "cell_type": "code",
   "execution_count": 1,
   "metadata": {},
   "outputs": [],
   "source": [
    "import pandas as pd\n",
    "import numpy as np\n",
    "import matplotlib.pyplot as plt"
   ]
  },
  {
   "cell_type": "code",
   "execution_count": 2,
   "metadata": {},
   "outputs": [],
   "source": [
    "profiles = pd.read_csv('./csv/sponsored/profiles.csv')\n",
    "videos = pd.read_csv('./csv/sponsored/videos.csv')"
   ]
  },
  {
   "cell_type": "code",
   "execution_count": 3,
   "metadata": {},
   "outputs": [
    {
     "data": {
      "text/html": [
       "<div>\n",
       "<style scoped>\n",
       "    .dataframe tbody tr th:only-of-type {\n",
       "        vertical-align: middle;\n",
       "    }\n",
       "\n",
       "    .dataframe tbody tr th {\n",
       "        vertical-align: top;\n",
       "    }\n",
       "\n",
       "    .dataframe thead th {\n",
       "        text-align: right;\n",
       "    }\n",
       "</style>\n",
       "<table border=\"1\" class=\"dataframe\">\n",
       "  <thead>\n",
       "    <tr style=\"text-align: right;\">\n",
       "      <th></th>\n",
       "      <th>user_name</th>\n",
       "      <th>user_id</th>\n",
       "      <th>nickname</th>\n",
       "      <th>account_created</th>\n",
       "      <th>verified</th>\n",
       "      <th>bio_link</th>\n",
       "      <th>followers</th>\n",
       "      <th>following</th>\n",
       "      <th>heart</th>\n",
       "      <th>videos</th>\n",
       "      <th>diggs</th>\n",
       "      <th>recent_engagement</th>\n",
       "      <th>ad_engagement</th>\n",
       "      <th>non_ad_engagement</th>\n",
       "      <th>sponsored_vids_pct</th>\n",
       "    </tr>\n",
       "  </thead>\n",
       "  <tbody>\n",
       "    <tr>\n",
       "      <th>0</th>\n",
       "      <td>soularty</td>\n",
       "      <td>6652451661401948166</td>\n",
       "      <td>Art for the Soul</td>\n",
       "      <td>2019-02-02 03:46:06</td>\n",
       "      <td>False</td>\n",
       "      <td>-</td>\n",
       "      <td>70700</td>\n",
       "      <td>149</td>\n",
       "      <td>1400000</td>\n",
       "      <td>162</td>\n",
       "      <td>0</td>\n",
       "      <td>0.046565</td>\n",
       "      <td>0.160401</td>\n",
       "      <td>0.070733</td>\n",
       "      <td>0.195946</td>\n",
       "    </tr>\n",
       "    <tr>\n",
       "      <th>1</th>\n",
       "      <td>ricardo.p1nto</td>\n",
       "      <td>6566533986121826310</td>\n",
       "      <td>Ricardo Pinto</td>\n",
       "      <td>2018-06-13 04:02:23</td>\n",
       "      <td>False</td>\n",
       "      <td>-</td>\n",
       "      <td>27400</td>\n",
       "      <td>633</td>\n",
       "      <td>187000</td>\n",
       "      <td>209</td>\n",
       "      <td>0</td>\n",
       "      <td>0.130764</td>\n",
       "      <td>0.122916</td>\n",
       "      <td>0.175470</td>\n",
       "      <td>0.655340</td>\n",
       "    </tr>\n",
       "    <tr>\n",
       "      <th>2</th>\n",
       "      <td>dripnas</td>\n",
       "      <td>29014327</td>\n",
       "      <td>Naseer Johnson</td>\n",
       "      <td>2016-01-12 12:06:10</td>\n",
       "      <td>False</td>\n",
       "      <td>-</td>\n",
       "      <td>244600</td>\n",
       "      <td>743</td>\n",
       "      <td>4800000</td>\n",
       "      <td>146</td>\n",
       "      <td>0</td>\n",
       "      <td>0.184640</td>\n",
       "      <td>0.139831</td>\n",
       "      <td>0.207193</td>\n",
       "      <td>0.068493</td>\n",
       "    </tr>\n",
       "    <tr>\n",
       "      <th>3</th>\n",
       "      <td>miyaevarenae</td>\n",
       "      <td>6623756337799806982</td>\n",
       "      <td>Miyaeva Renae ♡</td>\n",
       "      <td>2018-11-23 02:21:27</td>\n",
       "      <td>False</td>\n",
       "      <td>https://beacons.page/miyaevarenae</td>\n",
       "      <td>4800000</td>\n",
       "      <td>164</td>\n",
       "      <td>142000000</td>\n",
       "      <td>475</td>\n",
       "      <td>0</td>\n",
       "      <td>0.178419</td>\n",
       "      <td>0.141785</td>\n",
       "      <td>0.191881</td>\n",
       "      <td>0.033755</td>\n",
       "    </tr>\n",
       "    <tr>\n",
       "      <th>4</th>\n",
       "      <td>linhbarbie</td>\n",
       "      <td>67563924000</td>\n",
       "      <td>✨ Linh Barbie ✨</td>\n",
       "      <td>2017-08-28 21:27:24</td>\n",
       "      <td>True</td>\n",
       "      <td>https://www.youtube.com/channel/UCDZ3_SK5RJgMm...</td>\n",
       "      <td>16200000</td>\n",
       "      <td>224</td>\n",
       "      <td>262400000</td>\n",
       "      <td>1070</td>\n",
       "      <td>0</td>\n",
       "      <td>0.149684</td>\n",
       "      <td>0.080241</td>\n",
       "      <td>0.121661</td>\n",
       "      <td>0.001880</td>\n",
       "    </tr>\n",
       "  </tbody>\n",
       "</table>\n",
       "</div>"
      ],
      "text/plain": [
       "       user_name              user_id          nickname      account_created  \\\n",
       "0       soularty  6652451661401948166  Art for the Soul  2019-02-02 03:46:06   \n",
       "1  ricardo.p1nto  6566533986121826310     Ricardo Pinto  2018-06-13 04:02:23   \n",
       "2        dripnas             29014327    Naseer Johnson  2016-01-12 12:06:10   \n",
       "3   miyaevarenae  6623756337799806982   Miyaeva Renae ♡  2018-11-23 02:21:27   \n",
       "4     linhbarbie          67563924000   ✨ Linh Barbie ✨  2017-08-28 21:27:24   \n",
       "\n",
       "   verified                                           bio_link  followers  \\\n",
       "0     False                                                  -      70700   \n",
       "1     False                                                  -      27400   \n",
       "2     False                                                  -     244600   \n",
       "3     False                  https://beacons.page/miyaevarenae    4800000   \n",
       "4      True  https://www.youtube.com/channel/UCDZ3_SK5RJgMm...   16200000   \n",
       "\n",
       "   following      heart  videos  diggs  recent_engagement  ad_engagement  \\\n",
       "0        149    1400000     162      0           0.046565       0.160401   \n",
       "1        633     187000     209      0           0.130764       0.122916   \n",
       "2        743    4800000     146      0           0.184640       0.139831   \n",
       "3        164  142000000     475      0           0.178419       0.141785   \n",
       "4        224  262400000    1070      0           0.149684       0.080241   \n",
       "\n",
       "   non_ad_engagement  sponsored_vids_pct  \n",
       "0           0.070733            0.195946  \n",
       "1           0.175470            0.655340  \n",
       "2           0.207193            0.068493  \n",
       "3           0.191881            0.033755  \n",
       "4           0.121661            0.001880  "
      ]
     },
     "execution_count": 3,
     "metadata": {},
     "output_type": "execute_result"
    }
   ],
   "source": [
    "profiles.head()"
   ]
  },
  {
   "cell_type": "code",
   "execution_count": 4,
   "metadata": {},
   "outputs": [
    {
     "data": {
      "text/html": [
       "<div>\n",
       "<style scoped>\n",
       "    .dataframe tbody tr th:only-of-type {\n",
       "        vertical-align: middle;\n",
       "    }\n",
       "\n",
       "    .dataframe tbody tr th {\n",
       "        vertical-align: top;\n",
       "    }\n",
       "\n",
       "    .dataframe thead th {\n",
       "        text-align: right;\n",
       "    }\n",
       "</style>\n",
       "<table border=\"1\" class=\"dataframe\">\n",
       "  <thead>\n",
       "    <tr style=\"text-align: right;\">\n",
       "      <th></th>\n",
       "      <th>video_id</th>\n",
       "      <th>description</th>\n",
       "      <th>creation_time</th>\n",
       "      <th>duration</th>\n",
       "      <th>author_id</th>\n",
       "      <th>username</th>\n",
       "      <th>nickname</th>\n",
       "      <th>music_id</th>\n",
       "      <th>song_title</th>\n",
       "      <th>music_author_name</th>\n",
       "      <th>diggs</th>\n",
       "      <th>shares</th>\n",
       "      <th>comments</th>\n",
       "      <th>plays</th>\n",
       "      <th>video_engagement</th>\n",
       "      <th>sponsored-ad_ht</th>\n",
       "    </tr>\n",
       "  </thead>\n",
       "  <tbody>\n",
       "    <tr>\n",
       "      <th>0</th>\n",
       "      <td>6971501331164990725</td>\n",
       "      <td>WE SING A LOT HERE. BE MY BOYFRIEND FOR THE WE...</td>\n",
       "      <td>2021-06-08 19:05:45</td>\n",
       "      <td>22</td>\n",
       "      <td>6747459471943418885</td>\n",
       "      <td>chris</td>\n",
       "      <td>Chris Olsen</td>\n",
       "      <td>6.971501e+18</td>\n",
       "      <td>original sound</td>\n",
       "      <td>Chris Olsen</td>\n",
       "      <td>7274</td>\n",
       "      <td>4</td>\n",
       "      <td>32</td>\n",
       "      <td>52400</td>\n",
       "      <td>0.139504</td>\n",
       "      <td>0</td>\n",
       "    </tr>\n",
       "    <tr>\n",
       "      <th>1</th>\n",
       "      <td>6971222650995625221</td>\n",
       "      <td>HE ALWAYS TURNS IT AROUND @ THE END 😭 @ianpaget_</td>\n",
       "      <td>2021-06-08 01:04:21</td>\n",
       "      <td>41</td>\n",
       "      <td>6747459471943418885</td>\n",
       "      <td>chris</td>\n",
       "      <td>Chris Olsen</td>\n",
       "      <td>6.971223e+18</td>\n",
       "      <td>original sound</td>\n",
       "      <td>Chris Olsen</td>\n",
       "      <td>221900</td>\n",
       "      <td>1726</td>\n",
       "      <td>890</td>\n",
       "      <td>766700</td>\n",
       "      <td>0.292834</td>\n",
       "      <td>0</td>\n",
       "    </tr>\n",
       "    <tr>\n",
       "      <th>2</th>\n",
       "      <td>6971214894595099910</td>\n",
       "      <td>HE GOT SO MAD AT RHE END 💀 @ianpaget_ #couple</td>\n",
       "      <td>2021-06-08 00:34:15</td>\n",
       "      <td>36</td>\n",
       "      <td>6747459471943418885</td>\n",
       "      <td>chris</td>\n",
       "      <td>Chris Olsen</td>\n",
       "      <td>6.971215e+18</td>\n",
       "      <td>original sound</td>\n",
       "      <td>Chris Olsen</td>\n",
       "      <td>254000</td>\n",
       "      <td>602</td>\n",
       "      <td>387</td>\n",
       "      <td>1300000</td>\n",
       "      <td>0.196145</td>\n",
       "      <td>0</td>\n",
       "    </tr>\n",
       "    <tr>\n",
       "      <th>3</th>\n",
       "      <td>6970845224281066757</td>\n",
       "      <td>WHAT’D SHE SAYY AT THE ENDDD?? We love Lola ❤️🇵🇭</td>\n",
       "      <td>2021-06-07 00:39:44</td>\n",
       "      <td>33</td>\n",
       "      <td>6747459471943418885</td>\n",
       "      <td>chris</td>\n",
       "      <td>Chris Olsen</td>\n",
       "      <td>6.746993e+18</td>\n",
       "      <td>Monkeys Spinning Monkeys</td>\n",
       "      <td>Kevin MacLeod</td>\n",
       "      <td>328200</td>\n",
       "      <td>565</td>\n",
       "      <td>855</td>\n",
       "      <td>1400000</td>\n",
       "      <td>0.235443</td>\n",
       "      <td>0</td>\n",
       "    </tr>\n",
       "    <tr>\n",
       "      <th>4</th>\n",
       "      <td>6970796148659391749</td>\n",
       "      <td>#stitch with @zaytashon88 Lola’s rockin w it 😤🇵🇭</td>\n",
       "      <td>2021-06-06 21:29:17</td>\n",
       "      <td>14</td>\n",
       "      <td>6747459471943418885</td>\n",
       "      <td>chris</td>\n",
       "      <td>Chris Olsen</td>\n",
       "      <td>6.970796e+18</td>\n",
       "      <td>original sound</td>\n",
       "      <td>Chris Olsen</td>\n",
       "      <td>1900000</td>\n",
       "      <td>7270</td>\n",
       "      <td>6067</td>\n",
       "      <td>8200000</td>\n",
       "      <td>0.233334</td>\n",
       "      <td>0</td>\n",
       "    </tr>\n",
       "  </tbody>\n",
       "</table>\n",
       "</div>"
      ],
      "text/plain": [
       "              video_id                                        description  \\\n",
       "0  6971501331164990725  WE SING A LOT HERE. BE MY BOYFRIEND FOR THE WE...   \n",
       "1  6971222650995625221   HE ALWAYS TURNS IT AROUND @ THE END 😭 @ianpaget_   \n",
       "2  6971214894595099910      HE GOT SO MAD AT RHE END 💀 @ianpaget_ #couple   \n",
       "3  6970845224281066757   WHAT’D SHE SAYY AT THE ENDDD?? We love Lola ❤️🇵🇭   \n",
       "4  6970796148659391749   #stitch with @zaytashon88 Lola’s rockin w it 😤🇵🇭   \n",
       "\n",
       "         creation_time  duration            author_id username     nickname  \\\n",
       "0  2021-06-08 19:05:45        22  6747459471943418885    chris  Chris Olsen   \n",
       "1  2021-06-08 01:04:21        41  6747459471943418885    chris  Chris Olsen   \n",
       "2  2021-06-08 00:34:15        36  6747459471943418885    chris  Chris Olsen   \n",
       "3  2021-06-07 00:39:44        33  6747459471943418885    chris  Chris Olsen   \n",
       "4  2021-06-06 21:29:17        14  6747459471943418885    chris  Chris Olsen   \n",
       "\n",
       "       music_id                song_title music_author_name    diggs  shares  \\\n",
       "0  6.971501e+18            original sound       Chris Olsen     7274       4   \n",
       "1  6.971223e+18            original sound       Chris Olsen   221900    1726   \n",
       "2  6.971215e+18            original sound       Chris Olsen   254000     602   \n",
       "3  6.746993e+18  Monkeys Spinning Monkeys     Kevin MacLeod   328200     565   \n",
       "4  6.970796e+18            original sound       Chris Olsen  1900000    7270   \n",
       "\n",
       "   comments    plays  video_engagement  sponsored-ad_ht  \n",
       "0        32    52400          0.139504                0  \n",
       "1       890   766700          0.292834                0  \n",
       "2       387  1300000          0.196145                0  \n",
       "3       855  1400000          0.235443                0  \n",
       "4      6067  8200000          0.233334                0  "
      ]
     },
     "execution_count": 4,
     "metadata": {},
     "output_type": "execute_result"
    }
   ],
   "source": [
    "videos.head()"
   ]
  },
  {
   "cell_type": "code",
   "execution_count": 11,
   "metadata": {},
   "outputs": [],
   "source": [
    "# Dropping videos that had 0 plays at the time of retrieval\n",
    "videos.drop(videos[videos['plays'] == 0].index, inplace = True)\n",
    "\n",
    "# Dropping videos with diggs > plays\n",
    "videos.drop(videos[videos['diggs'] >= videos['plays']].index, inplace = True)\n",
    "# profiles[profiles['user_name'] == 'kalaniballfree']"
   ]
  },
  {
   "cell_type": "code",
   "execution_count": 6,
   "metadata": {},
   "outputs": [
    {
     "data": {
      "image/png": "[encoded data removed]",
      "text/plain": [
       "<Figure size 432x288 with 1 Axes>"
      ]
     },
     "metadata": {
      "needs_background": "light"
     },
     "output_type": "display_data"
    }
   ],
   "source": [
    "profiles.sponsored_vids_pct.hist(bins=50);"
   ]
  },
  {
   "cell_type": "code",
   "execution_count": 20,
   "metadata": {},
   "outputs": [
    {
     "data": {
      "image/png": "[encoded data removed]",
      "text/plain": [
       "<Figure size 432x288 with 1 Axes>"
      ]
     },
     "metadata": {
      "needs_background": "light"
     },
     "output_type": "display_data"
    }
   ],
   "source": [
    "profiles.recent_engagement.hist(bins=25);"
   ]
  },
  {
   "cell_type": "code",
   "execution_count": 28,
   "metadata": {},
   "outputs": [
    {
     "data": {
      "image/png": "[encoded data removed]",
      "text/plain": [
       "<Figure size 432x288 with 1 Axes>"
      ]
     },
     "metadata": {
      "needs_background": "light"
     },
     "output_type": "display_data"
    }
   ],
   "source": [
    "profiles.ad_engagement.hist(bins=25);"
   ]
  },
  {
   "cell_type": "code",
   "execution_count": 29,
   "metadata": {},
   "outputs": [
    {
     "data": {
      "image/png": "[encoded data removed]",
      "text/plain": [
       "<Figure size 432x288 with 1 Axes>"
      ]
     },
     "metadata": {
      "needs_background": "light"
     },
     "output_type": "display_data"
    }
   ],
   "source": [
    "profiles.non_ad_engagement.hist(bins=25);"
   ]
  },
  {
   "cell_type": "code",
   "execution_count": 13,
   "metadata": {},
   "outputs": [
    {
     "data": {
      "image/png": "[encoded data removed]",
      "text/plain": [
       "<Figure size 432x288 with 1 Axes>"
      ]
     },
     "metadata": {
      "needs_background": "light"
     },
     "output_type": "display_data"
    }
   ],
   "source": [
    "videos.video_engagement.hist(bins=100)"
   ]
  },
  {
   "cell_type": "code",
   "execution_count": 8,
   "metadata": {},
   "outputs": [
    {
     "data": {
      "text/html": [
       "<div>\n",
       "<style scoped>\n",
       "    .dataframe tbody tr th:only-of-type {\n",
       "        vertical-align: middle;\n",
       "    }\n",
       "\n",
       "    .dataframe tbody tr th {\n",
       "        vertical-align: top;\n",
       "    }\n",
       "\n",
       "    .dataframe thead th {\n",
       "        text-align: right;\n",
       "    }\n",
       "</style>\n",
       "<table border=\"1\" class=\"dataframe\">\n",
       "  <thead>\n",
       "    <tr style=\"text-align: right;\">\n",
       "      <th></th>\n",
       "      <th>video_id</th>\n",
       "      <th>description</th>\n",
       "      <th>creation_time</th>\n",
       "      <th>duration</th>\n",
       "      <th>author_id</th>\n",
       "      <th>username</th>\n",
       "      <th>nickname</th>\n",
       "      <th>music_id</th>\n",
       "      <th>song_title</th>\n",
       "      <th>music_author_name</th>\n",
       "      <th>diggs</th>\n",
       "      <th>shares</th>\n",
       "      <th>comments</th>\n",
       "      <th>plays</th>\n",
       "      <th>video_engagement</th>\n",
       "      <th>sponsored-ad_ht</th>\n",
       "    </tr>\n",
       "  </thead>\n",
       "  <tbody>\n",
       "    <tr>\n",
       "      <th>121236</th>\n",
       "      <td>143849540</td>\n",
       "      <td>same old same old👀</td>\n",
       "      <td>2015-11-18 19:40:13</td>\n",
       "      <td>15</td>\n",
       "      <td>934514</td>\n",
       "      <td>lorengray</td>\n",
       "      <td>Loren Gray</td>\n",
       "      <td>7281649.0</td>\n",
       "      <td>Same Old Love</td>\n",
       "      <td>Selena Gomez</td>\n",
       "      <td>152300</td>\n",
       "      <td>10</td>\n",
       "      <td>386</td>\n",
       "      <td>7022</td>\n",
       "      <td>21.745372</td>\n",
       "      <td>0</td>\n",
       "    </tr>\n",
       "  </tbody>\n",
       "</table>\n",
       "</div>"
      ],
      "text/plain": [
       "         video_id         description        creation_time  duration  \\\n",
       "121236  143849540  same old same old👀  2015-11-18 19:40:13        15   \n",
       "\n",
       "        author_id   username    nickname   music_id     song_title  \\\n",
       "121236     934514  lorengray  Loren Gray  7281649.0  Same Old Love   \n",
       "\n",
       "       music_author_name   diggs  shares  comments  plays  video_engagement  \\\n",
       "121236      Selena Gomez  152300      10       386   7022         21.745372   \n",
       "\n",
       "        sponsored-ad_ht  \n",
       "121236                0  "
      ]
     },
     "execution_count": 8,
     "metadata": {},
     "output_type": "execute_result"
    }
   ],
   "source": [
    "videos.loc[[121236]]"
   ]
  },
  {
   "cell_type": "code",
   "execution_count": 21,
   "metadata": {},
   "outputs": [
    {
     "data": {
      "text/plain": [
       "0"
      ]
     },
     "execution_count": 21,
     "metadata": {},
     "output_type": "execute_result"
    }
   ],
   "source": [
    "np.where(videos['diggs'] >= videos['plays'], 1, 0).sum()"
   ]
  },
  {
   "cell_type": "code",
   "execution_count": null,
   "metadata": {},
   "outputs": [],
   "source": []
  }
 ],
 "metadata": {
  "kernelspec": {
   "display_name": "Python 3",
   "language": "python",
   "name": "python3"
  },
  "language_info": {
   "codemirror_mode": {
    "name": "ipython",
    "version": 3
   },
   "file_extension": ".py",
   "mimetype": "text/x-python",
   "name": "python",
   "nbconvert_exporter": "python",
   "pygments_lexer": "ipython3",
   "version": "3.8.3"
  }
 },
 "nbformat": 4,
 "nbformat_minor": 4
}
